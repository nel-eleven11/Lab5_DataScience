{
 "cells": [
  {
   "cell_type": "markdown",
   "id": "99cd794a",
   "metadata": {},
   "source": [
    "# Laboratorio 5: Redes Neuronales Recurrentes (RNN) para Series de Tiempo\n",
    "\n",
    "## Autores:\n",
    "\n",
    "- Nelson García 22434\n",
    "- Christian Echeverría\n",
    "\n"
   ]
  },
  {
   "cell_type": "code",
   "execution_count": null,
   "id": "8111b3e4",
   "metadata": {
    "vscode": {
     "languageId": "plaintext"
    }
   },
   "outputs": [],
   "source": []
  }
 ],
 "metadata": {
  "language_info": {
   "name": "python"
  }
 },
 "nbformat": 4,
 "nbformat_minor": 5
}
